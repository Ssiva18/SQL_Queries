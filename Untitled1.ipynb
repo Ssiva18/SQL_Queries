{
 "cells": [
  {
   "cell_type": "code",
   "execution_count": 3,
   "id": "f5220b73",
   "metadata": {},
   "outputs": [
    {
     "ename": "ModuleNotFoundError",
     "evalue": "No module named 'pyngrok'",
     "output_type": "error",
     "traceback": [
      "\u001b[1;31m---------------------------------------------------------------------------\u001b[0m",
      "\u001b[1;31mModuleNotFoundError\u001b[0m                       Traceback (most recent call last)",
      "Cell \u001b[1;32mIn [3], line 5\u001b[0m\n\u001b[0;32m      3\u001b[0m \u001b[38;5;28;01mimport\u001b[39;00m \u001b[38;5;21;01mpickle\u001b[39;00m\n\u001b[0;32m      4\u001b[0m \u001b[38;5;28;01mimport\u001b[39;00m \u001b[38;5;21;01mjson\u001b[39;00m\n\u001b[1;32m----> 5\u001b[0m \u001b[38;5;28;01mfrom\u001b[39;00m \u001b[38;5;21;01mpyngrok\u001b[39;00m \u001b[38;5;28;01mimport\u001b[39;00m ngrok\n\u001b[0;32m      6\u001b[0m \u001b[38;5;28;01mfrom\u001b[39;00m \u001b[38;5;21;01mfastapi\u001b[39;00m\u001b[38;5;21;01m.\u001b[39;00m\u001b[38;5;21;01mmiddleware\u001b[39;00m\u001b[38;5;21;01m.\u001b[39;00m\u001b[38;5;21;01mcors\u001b[39;00m \u001b[38;5;28;01mimport\u001b[39;00m CORSMiddleware\n\u001b[0;32m      7\u001b[0m \u001b[38;5;28;01mimport\u001b[39;00m \u001b[38;5;21;01mnest_asyncio\u001b[39;00m\n",
      "\u001b[1;31mModuleNotFoundError\u001b[0m: No module named 'pyngrok'"
     ]
    }
   ],
   "source": [
    "from fastapi import FastAPI\n",
    "from pydantic import BaseModel\n",
    "import pickle\n",
    "import json\n",
    "from pyngrok import ngrok\n",
    "from fastapi.middleware.cors import CORSMiddleware\n",
    "import nest_asyncio\n",
    "import uvicorn\n",
    "import numpy \n",
    "import pandas \n",
    "\n",
    "\n",
    "\n",
    "app = FastAPI()\n",
    "\n",
    "\n",
    "origins = [\"*\"]\n",
    "\n",
    "app.add_middleware(CORSMiddleware,allow_origins=origins,\n",
    "                   allow_credentials=True,\n",
    "                   allow_methods=[\"*\"],\n",
    "                   allow_headers=[\"*\"])\n",
    "\n",
    "\n",
    "\n",
    "class param(BaseModel):\n",
    "    \n",
    "    \n",
    "    Pregnancies :int\n",
    "    Glucose :int\n",
    "    BloodPressure :int\n",
    "    SkinThickness :int\n",
    "    Insulin :int\n",
    "    BMI :float\n",
    "    DiabetesPedigreeFunction :float\n",
    "    Age :int\n",
    "   \n",
    "    \n",
    "   \n",
    "diabetic_model = pickle.load(open('random_classfier.pki','rb')) \n",
    "\n",
    "\n",
    "\n",
    "@app.post('/predic')\n",
    "def predict(input_param : param):   \n",
    "    \n",
    "    input_data = input_param.json()\n",
    "    input_dict = json.loads(input_data)\n",
    "    \n",
    "    \n",
    "    preg = input_dict['Pregnancies']\n",
    "    glu = input_dict['Glucose']\n",
    "    blp = input_dict['BloodPressure']\n",
    "    skin = input_dict['SkinThickness']\n",
    "    ins = input_dict['Insulin']\n",
    "    bmi = input_dict['BMI']\n",
    "    dia = input_dict['DiabetesPedigreeFunction'] \n",
    "    age = input_dict['Age']\n",
    "\n",
    "\n",
    "\n",
    "    input_list = [preg,glu,blp,skin,ins,bmi,dia,age]\n",
    "\n",
    "    prediction = diabetic_model.predict([input_list])\n",
    "\n",
    "    if prediction[0]==0:\n",
    "        \n",
    "        print('person is diabetic')\n",
    "        \n",
    "    else:\n",
    "        print('notttty_diabetic')    \n",
    "        \n",
    "        \n",
    "        \n",
    "ngrok_tunnel = ngrok.connect(8000)\n",
    "print('public URL :',ngrok_tunnel.pubic_url)\n",
    "nest_asyncio.apply()\n",
    "uvicorn.run(app,port=8000)\n",
    "    "
   ]
  },
  {
   "cell_type": "code",
   "execution_count": 4,
   "id": "a8544924",
   "metadata": {},
   "outputs": [
    {
     "name": "stdout",
     "output_type": "stream",
     "text": [
      "Requirement already satisfied: pyngrok in d:\\anaconda\\envs\\myenvv\\lib\\site-packages (5.1.0)\n",
      "Requirement already satisfied: PyYAML in d:\\anaconda\\envs\\myenvv\\lib\\site-packages (from pyngrok) (6.0)\n"
     ]
    }
   ],
   "source": [
    "! pip install pyngrok"
   ]
  },
  {
   "cell_type": "code",
   "execution_count": null,
   "id": "82424088",
   "metadata": {},
   "outputs": [],
   "source": [
    "from pyng"
   ]
  }
 ],
 "metadata": {
  "kernelspec": {
   "display_name": "myenvv",
   "language": "python",
   "name": "myenvv"
  },
  "language_info": {
   "codemirror_mode": {
    "name": "ipython",
    "version": 3
   },
   "file_extension": ".py",
   "mimetype": "text/x-python",
   "name": "python",
   "nbconvert_exporter": "python",
   "pygments_lexer": "ipython3",
   "version": "3.9.12"
  }
 },
 "nbformat": 4,
 "nbformat_minor": 5
}
